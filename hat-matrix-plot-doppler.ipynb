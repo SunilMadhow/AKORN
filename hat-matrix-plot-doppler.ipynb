{
 "cells": [
  {
   "cell_type": "code",
   "execution_count": 1,
   "id": "60fb9b43",
   "metadata": {},
   "outputs": [],
   "source": [
    "from akorn import AKORN\n",
    "from util import *\n",
    "import matplotlib.pyplot as plt\n",
    "from comps.local_poly_regression import *\n",
    "%load_ext autoreload\n",
    "%autoreload 2\n",
    "%matplotlib qt"
   ]
  },
  {
   "cell_type": "code",
   "execution_count": 54,
   "id": "932cd386",
   "metadata": {},
   "outputs": [
    {
     "name": "stdout",
     "output_type": "stream",
     "text": [
      "lr =  0.040171561812911066\n",
      "run\n"
     ]
    }
   ],
   "source": [
    "T = 1000\n",
    "X = np.linspace(0, T, T)/T\n",
    "\n",
    "std = 0.3\n",
    "var = std**2\n",
    "\n",
    "G = doppler(abs(1 - X), 0.38)\n",
    "Y = np.random.normal(G, std, T)\n",
    "\n",
    "ak = AKORN(X, Y, var)\n",
    "ak.train()"
   ]
  },
  {
   "cell_type": "code",
   "execution_count": 55,
   "id": "fae5b52e",
   "metadata": {},
   "outputs": [
    {
     "data": {
      "text/plain": [
       "array([[0.00000000e+00, 0.00000000e+00, 0.00000000e+00, ...,\n",
       "        0.00000000e+00, 0.00000000e+00, 0.00000000e+00],\n",
       "       [1.00000000e+00, 0.00000000e+00, 0.00000000e+00, ...,\n",
       "        0.00000000e+00, 0.00000000e+00, 0.00000000e+00],\n",
       "       [5.00000000e-01, 5.00000000e-01, 0.00000000e+00, ...,\n",
       "        0.00000000e+00, 0.00000000e+00, 0.00000000e+00],\n",
       "       ...,\n",
       "       [1.12235872e-80, 1.08193790e-80, 9.51652896e-81, ...,\n",
       "        0.00000000e+00, 0.00000000e+00, 0.00000000e+00],\n",
       "       [9.47155048e-81, 9.13286085e-81, 8.04028982e-81, ...,\n",
       "        1.00200401e-03, 0.00000000e+00, 0.00000000e+00],\n",
       "       [9.91295045e-81, 9.55879891e-81, 8.41621700e-81, ...,\n",
       "        8.45520251e-04, 1.00100100e-03, 0.00000000e+00]])"
      ]
     },
     "execution_count": 55,
     "metadata": {},
     "output_type": "execute_result"
    }
   ],
   "source": [
    "from flh import *\n",
    "online = FLH(X, Y, T)\n",
    "online.run()"
   ]
  },
  {
   "cell_type": "code",
   "execution_count": 18,
   "id": "91821413",
   "metadata": {},
   "outputs": [],
   "source": [
    "## Get (approximate) best bw for ll\n",
    "# min_bw = 0.01\n",
    "# bandwidths = [min_bw*(2**i) for i in range(2+int(math.log(1/min_bw, 2)))]\n",
    "\n",
    "# best_bw = 0\n",
    "# best_bw_mse = float(\"inf\")\n",
    "\n",
    "# Y_local = None\n",
    "# for bw in bandwidths:\n",
    "#     Y_local_bw = np.array([local_linear(X, Y, bw, x, kernel_func = boxcar) for x in X])\n",
    "#     mse = ((G - Y_local_bw)**2).mean()\n",
    "#     print(\"bw = \", bw, \"    Mse = \", mse)\n",
    "#     if mse < best_bw_mse:\n",
    "#         Y_local = Y_local_bw\n",
    "#         best_bw_mse = mse\n",
    "#         best_bw = bw\n",
    "        \n",
    "best_bw = 0.02 #the output of the above code, which takes a long time to run.\n"
   ]
  },
  {
   "cell_type": "code",
   "execution_count": 56,
   "id": "bf0f5f3c",
   "metadata": {},
   "outputs": [],
   "source": [
    "H_akorn = ak.get_hat_matrix()\n",
    "H_online = online.get_hat_matrix()\n",
    "H_ll = local_linear_hatmatrix_2(X, best_bw, gaussian)"
   ]
  },
  {
   "cell_type": "code",
   "execution_count": 57,
   "id": "cab1f07d",
   "metadata": {},
   "outputs": [],
   "source": [
    "from util import *\n",
    "\n",
    "level = 40\n",
    "\n",
    "H_akorn = log_transform(H_akorn, level)\n",
    "H_online = log_transform(H_online, level)\n",
    "H_ll = log_transform(H_ll, level)"
   ]
  },
  {
   "cell_type": "code",
   "execution_count": 68,
   "id": "a3061801",
   "metadata": {},
   "outputs": [],
   "source": [
    "t = T\n",
    "# fig, ax = subplots_centered(nrows=2, ncols=2, figsize=(10,7), nfigs=3)\n",
    "fig, ax = plt.subplots(1, 4)\n",
    "# fig.suptitle(\"Large Values of Hat Matrices\", fontsize = 20)\n",
    "\n",
    "ax00 = ax[0]\n",
    "ax0 = ax[1]\n",
    "ax1 = ax[2]\n",
    "ax2 = ax[3]\n",
    "\n",
    "ax00.set_xticks(ticks=[], labels=[])\n",
    "ax00.set_yticks(ticks=[], labels=[])\n",
    "ax0.set_xticks(ticks=[], labels=[])\n",
    "ax0.set_yticks(ticks=[], labels=[])\n",
    "ax1.set_xticks(ticks=[], labels=[])\n",
    "ax1.set_yticks(ticks=[], labels=[])\n",
    "ax2.set_xticks(ticks=[], labels=[])\n",
    "ax2.set_yticks(ticks=[], labels=[])\n",
    "\n",
    "ax1.title.set_text(\"ADDLE\")\n",
    "ax0.title.set_text(\"Local Linear Regression\")\n",
    "ax2.title.set_text(\"AKORN\")\n",
    "\n",
    "\n",
    "cmap = plt.get_cmap('PuOr')\n",
    "\n",
    "# extract all colors from the .jet map\n",
    "cmaplist = [cmap(i) for i in reversed(range(cmap.N))]\n",
    "# create the new map\n",
    "cmap = cmap.from_list('Custom cmap', cmaplist, cmap.N)\n",
    "\n",
    "\n",
    "heatmap = ax0.imshow(H_ll, vmin = -np.max(H_akorn)/2, vmax = np.max(H_akorn)/2, cmap=cmap)\n",
    "ax0.plot(range(0,t), -G[:t]*T/10 +T/2, color = 'black', linewidth = 3)\n",
    "# plt.show()\n",
    "\n",
    "\n",
    "heatmap2 = ax1.imshow(H_online, vmin = -np.max(H_akorn)/2, vmax = np.max(H_akorn)/2, cmap = cmap)\n",
    "ax1.plot(range(0,t), -G[:t]*T/10 +T/2, color = 'black', linewidth = 3)\n",
    "\n",
    "heatmap2 = ax2.imshow(H_akorn, vmin = -np.max(H_akorn)/2, vmax = np.max(H_akorn)/2, cmap = cmap)\n",
    "ax2.plot(range(0,T), -G*T/10 +T/2, color = 'black', linewidth = 3)\n",
    "\n",
    "ax00.plot(X, G, color = \"black\")\n",
    "ax00.plot(X, Y, alpha = 0.5, color = \"gray\")\n",
    "ax00.set_box_aspect(1)\n",
    "\n",
    "\n",
    "fig.subplots_adjust(wspace=0.4)\n",
    "\n",
    "\n",
    "plt.show()"
   ]
  },
  {
   "cell_type": "code",
   "execution_count": null,
   "id": "a4b6b466",
   "metadata": {},
   "outputs": [],
   "source": []
  }
 ],
 "metadata": {
  "kernelspec": {
   "display_name": "Python 3 (ipykernel)",
   "language": "python",
   "name": "python3"
  },
  "language_info": {
   "codemirror_mode": {
    "name": "ipython",
    "version": 3
   },
   "file_extension": ".py",
   "mimetype": "text/x-python",
   "name": "python",
   "nbconvert_exporter": "python",
   "pygments_lexer": "ipython3",
   "version": "3.11.5"
  }
 },
 "nbformat": 4,
 "nbformat_minor": 5
}
