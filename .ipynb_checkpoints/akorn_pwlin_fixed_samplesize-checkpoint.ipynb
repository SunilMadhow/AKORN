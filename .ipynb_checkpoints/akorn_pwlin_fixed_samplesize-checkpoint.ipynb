{
 "cells": [
  {
   "cell_type": "code",
   "execution_count": null,
   "id": "5ca56190",
   "metadata": {
    "scrolled": true
   },
   "outputs": [],
   "source": [
    "from akorn import AKORN\n",
    "from util import *\n",
    "import matplotlib.pyplot as plt\n",
    "%load_ext autoreload\n",
    "%autoreload 2\n",
    "%matplotlib qt\n",
    "\n"
   ]
  },
  {
   "cell_type": "code",
   "execution_count": 5,
   "id": "6f4d6019",
   "metadata": {},
   "outputs": [
    {
     "name": "stdout",
     "output_type": "stream",
     "text": [
      "lr =  0.033073137678965595\n",
      "run\n",
      "0\n",
      "500\n",
      "0\n",
      "500\n"
     ]
    }
   ],
   "source": [
    "T = 1000\n",
    "X = np.linspace(0, T, T)/T\n",
    "\n",
    "std = 0.3\n",
    "var = std**2\n",
    "\n",
    "k = 5\n",
    "G = np.array([0]*(T-k) + [1 + j for j in range(k)])\n",
    "Y = np.random.normal(G, std, T)\n",
    "\n",
    "ak = AKORN(X, Y, var)\n",
    "ak.train()\n",
    "\n",
    "preds = ak.preds"
   ]
  },
  {
   "cell_type": "code",
   "execution_count": 107,
   "id": "76e1293e",
   "metadata": {},
   "outputs": [
    {
     "name": "stdout",
     "output_type": "stream",
     "text": [
      "0\n",
      "10\n",
      "20\n",
      "30\n",
      "40\n",
      "50\n",
      "60\n",
      "70\n",
      "80\n",
      "90\n",
      "100\n",
      "110\n",
      "120\n",
      "130\n",
      "140\n",
      "150\n",
      "160\n",
      "170\n",
      "180\n",
      "190\n",
      "200\n",
      "210\n",
      "220\n",
      "230\n",
      "240\n",
      "250\n",
      "260\n",
      "270\n",
      "280\n",
      "290\n",
      "300\n",
      "310\n",
      "320\n",
      "330\n",
      "340\n",
      "350\n",
      "360\n",
      "370\n",
      "380\n",
      "390\n",
      "400\n",
      "410\n",
      "420\n",
      "430\n",
      "440\n",
      "450\n",
      "460\n",
      "470\n",
      "480\n",
      "490\n",
      "500\n",
      "510\n",
      "520\n",
      "530\n",
      "540\n",
      "550\n",
      "560\n",
      "570\n",
      "580\n",
      "590\n",
      "600\n",
      "610\n",
      "620\n",
      "630\n",
      "640\n",
      "650\n",
      "660\n",
      "670\n",
      "680\n",
      "690\n",
      "700\n",
      "710\n",
      "720\n",
      "730\n",
      "740\n",
      "750\n",
      "760\n",
      "770\n",
      "780\n",
      "790\n",
      "800\n",
      "810\n",
      "820\n",
      "830\n",
      "840\n",
      "850\n",
      "860\n",
      "870\n",
      "880\n",
      "890\n",
      "900\n",
      "910\n",
      "920\n",
      "930\n",
      "940\n",
      "950\n",
      "960\n",
      "970\n",
      "980\n",
      "990\n"
     ]
    },
    {
     "data": {
      "text/plain": [
       "array([[0.00000000e+00, 0.00000000e+00, 0.00000000e+00, ...,\n",
       "        0.00000000e+00, 0.00000000e+00, 0.00000000e+00],\n",
       "       [1.00000000e+00, 0.00000000e+00, 0.00000000e+00, ...,\n",
       "        0.00000000e+00, 0.00000000e+00, 0.00000000e+00],\n",
       "       [5.00000000e-01, 5.00000000e-01, 0.00000000e+00, ...,\n",
       "        0.00000000e+00, 0.00000000e+00, 0.00000000e+00],\n",
       "       ...,\n",
       "       [2.21807776e-75, 2.24570690e-75, 2.15743561e-75, ...,\n",
       "        0.00000000e+00, 0.00000000e+00, 0.00000000e+00],\n",
       "       [2.07920957e-75, 2.10583536e-75, 2.02399653e-75, ...,\n",
       "        1.00200401e-03, 0.00000000e+00, 0.00000000e+00],\n",
       "       [1.65864047e-75, 1.68115881e-75, 1.61747179e-75, ...,\n",
       "        1.03572509e-03, 1.00100100e-03, 0.00000000e+00]])"
      ]
     },
     "execution_count": 107,
     "metadata": {},
     "output_type": "execute_result"
    }
   ],
   "source": [
    "from flh import *\n",
    "online = FLH(X, Y, T)\n",
    "online.run()"
   ]
  },
  {
   "cell_type": "code",
   "execution_count": 104,
   "id": "42c2aac2",
   "metadata": {},
   "outputs": [],
   "source": [
    "from util import *\n",
    "\n",
    "\n",
    "H_online = online.get_hat_matrix()\n",
    "H_online = log_transform(H_online, 20)"
   ]
  },
  {
   "cell_type": "code",
   "execution_count": 6,
   "id": "e0f381e7",
   "metadata": {},
   "outputs": [
    {
     "data": {
      "text/plain": [
       "[<matplotlib.lines.Line2D at 0x28d7487d0>]"
      ]
     },
     "execution_count": 6,
     "metadata": {},
     "output_type": "execute_result"
    }
   ],
   "source": [
    "plt.plot(X, Y)\n",
    "plt.plot(X, preds)\n"
   ]
  },
  {
   "cell_type": "code",
   "execution_count": 41,
   "id": "05fd443b",
   "metadata": {},
   "outputs": [],
   "source": [
    "H = ak.get_hat_matrix()\n",
    "H = log_transform(H, 20)"
   ]
  },
  {
   "cell_type": "code",
   "execution_count": 79,
   "id": "57dded65",
   "metadata": {},
   "outputs": [],
   "source": [
    "cmap = plt.get_cmap('PuOr')\n",
    "\n",
    "plt.title(\"Hat Matrix for AKORN\")\n",
    "\n",
    "# extract all colors from the .jet map\n",
    "cmaplist = [cmap(i) for i in reversed(range(cmap.N))]\n",
    "# create the new map\n",
    "cmap = cmap.from_list('Custom cmap', cmaplist, cmap.N)\n",
    "\n",
    "plt.imshow(H, cmap=cmap, interpolation='none')\n",
    "\n",
    "heatmap = plt.imshow(H, vmin = -np.max(H)/2.5, vmax = np.max(H)/2.5, cmap=cmap)\n",
    "plt.plot(range(0,T), -G*T/10 +T/2, color = 'black', linewidth = 3)\n",
    "# plt.show()\n",
    "\n",
    "\n",
    "plt.show()"
   ]
  },
  {
   "cell_type": "code",
   "execution_count": 78,
   "id": "ffb143f8",
   "metadata": {},
   "outputs": [],
   "source": [
    "cmap = plt.get_cmap('PuOr')\n",
    "\n",
    "plt.title(\"Hat Matrix for AKORN\")\n",
    "\n",
    "# extract all colors from the .jet map\n",
    "cmaplist = [cmap(i) for i in reversed(range(cmap.N))]\n",
    "# create the new map\n",
    "cmap = cmap.from_list('Custom cmap', cmaplist, cmap.N)\n",
    "\n",
    "plt.imshow(H, cmap=cmap, interpolation='none')\n",
    "\n",
    "heatmap = plt.imshow(H_online, vmin = -np.max(H)/2.5, vmax = np.max(H)/2.5, cmap=cmap)\n",
    "plt.plot(range(0,T), -G*T/10 +T/2, color = 'black', linewidth = 3)\n",
    "# plt.show()\n",
    "\n",
    "\n",
    "plt.show()"
   ]
  },
  {
   "cell_type": "code",
   "execution_count": 80,
   "id": "e5b9c34f",
   "metadata": {},
   "outputs": [
    {
     "data": {
      "text/plain": [
       "35.090933015633105"
      ]
     },
     "execution_count": 80,
     "metadata": {},
     "output_type": "execute_result"
    }
   ],
   "source": [
    "np.sum((np.array(online.predictions) - G)**2)"
   ]
  },
  {
   "cell_type": "code",
   "execution_count": 81,
   "id": "eb70cfa6",
   "metadata": {},
   "outputs": [
    {
     "data": {
      "text/plain": [
       "5.240224828603182"
      ]
     },
     "execution_count": 81,
     "metadata": {},
     "output_type": "execute_result"
    }
   ],
   "source": [
    "np.sum((np.array(preds) - G)**2)"
   ]
  },
  {
   "cell_type": "code",
   "execution_count": null,
   "id": "9b896835",
   "metadata": {},
   "outputs": [],
   "source": []
  }
 ],
 "metadata": {
  "kernelspec": {
   "display_name": "Python 3 (ipykernel)",
   "language": "python",
   "name": "python3"
  },
  "language_info": {
   "codemirror_mode": {
    "name": "ipython",
    "version": 3
   },
   "file_extension": ".py",
   "mimetype": "text/x-python",
   "name": "python",
   "nbconvert_exporter": "python",
   "pygments_lexer": "ipython3",
   "version": "3.11.5"
  }
 },
 "nbformat": 4,
 "nbformat_minor": 5
}
